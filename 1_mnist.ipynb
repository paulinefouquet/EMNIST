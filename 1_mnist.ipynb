{
 "cells": [
  {
   "cell_type": "code",
   "execution_count": 1,
   "id": "4c2c8b50-d298-4906-b581-b91b0a171cb0",
   "metadata": {},
   "outputs": [
    {
     "name": "stderr",
     "output_type": "stream",
     "text": [
      "2024-03-01 13:43:11.650385: I tensorflow/core/util/port.cc:110] oneDNN custom operations are on. You may see slightly different numerical results due to floating-point round-off errors from different computation orders. To turn them off, set the environment variable `TF_ENABLE_ONEDNN_OPTS=0`.\n",
      "2024-03-01 13:43:11.708036: I tensorflow/core/platform/cpu_feature_guard.cc:182] This TensorFlow binary is optimized to use available CPU instructions in performance-critical operations.\n",
      "To enable the following instructions: SSE4.1 SSE4.2 AVX AVX2 AVX512F AVX512_VNNI FMA, in other operations, rebuild TensorFlow with the appropriate compiler flags.\n"
     ]
    }
   ],
   "source": [
    "import keras\n",
    "from keras.datasets import mnist\n",
    "from sklearn.model_selection import train_test_split\n",
    "import cv2\n",
    "import numpy as np\n",
    "import matplotlib.pyplot as plt\n",
    "\n",
    "from keras import layers, models\n",
    "from keras.models import Sequential\n",
    "\n",
    "from tensorflow.keras.utils import to_categorical\n",
    "#import mlflow\n",
    "import time\n",
    "\n",
    "import os\n",
    "os.environ['CUDA_VISIBLE_DEVICES'] = '1'"
   ]
  },
  {
   "cell_type": "code",
   "execution_count": 2,
   "id": "9f633d92-f931-41c2-b48c-8748e17ef650",
   "metadata": {},
   "outputs": [],
   "source": [
    "batch_size=64\n",
    "epochs=2\n",
    "\n",
    "params = {\n",
    "    \"epochs\": epochs,\n",
    "    \"batch_size\": batch_size,\n",
    "}\n",
    "TAG = 'démarrage'"
   ]
  },
  {
   "cell_type": "code",
   "execution_count": 3,
   "id": "9b43f291-2e19-482e-82a9-be93e9d503d0",
   "metadata": {},
   "outputs": [],
   "source": [
    "(X_train1, y_train1), (X_test, y_test) = keras.datasets.mnist.load_data(path=\"mnist.npz\")"
   ]
  },
  {
   "cell_type": "code",
   "execution_count": 4,
   "id": "132edb36-e7a0-4fb5-9569-8308ed512769",
   "metadata": {},
   "outputs": [
    {
     "data": {
      "text/plain": [
       "((10000, 28, 28), (10000,))"
      ]
     },
     "execution_count": 4,
     "metadata": {},
     "output_type": "execute_result"
    }
   ],
   "source": [
    "X_test.shape, y_test.shape"
   ]
  },
  {
   "cell_type": "code",
   "execution_count": 5,
   "id": "c1280f31-09fb-4eb8-9237-8ddfee0bea69",
   "metadata": {},
   "outputs": [
    {
     "data": {
      "text/plain": [
       "((60000, 28, 28), (60000,))"
      ]
     },
     "execution_count": 5,
     "metadata": {},
     "output_type": "execute_result"
    }
   ],
   "source": [
    "X_train1.shape, y_train1.shape"
   ]
  },
  {
   "cell_type": "code",
   "execution_count": 6,
   "id": "ebc09e42-0dd8-45db-a29c-4a9cb81bb561",
   "metadata": {},
   "outputs": [
    {
     "data": {
      "text/plain": [
       "((10000, 28, 28), (10000,))"
      ]
     },
     "execution_count": 6,
     "metadata": {},
     "output_type": "execute_result"
    }
   ],
   "source": [
    "X_train, X_val, y_train, y_val = train_test_split(X_train1, y_train1, test_size=0.16666)\n",
    "X_val.shape, y_val.shape"
   ]
  },
  {
   "cell_type": "code",
   "execution_count": 7,
   "id": "9f7a6b0e-77a1-4446-81a1-789083ffddb6",
   "metadata": {},
   "outputs": [],
   "source": [
    "X_train_norm, X_test_norm, X_val_norm = X_train/255, X_test/255, X_val/255"
   ]
  },
  {
   "cell_type": "code",
   "execution_count": 8,
   "id": "623d331e-b530-4594-841b-19b9e8332890",
   "metadata": {},
   "outputs": [
    {
     "data": {
      "text/plain": [
       "(10000, 28, 28)"
      ]
     },
     "execution_count": 8,
     "metadata": {},
     "output_type": "execute_result"
    }
   ],
   "source": [
    "X_val_norm.shape"
   ]
  },
  {
   "cell_type": "code",
   "execution_count": 9,
   "id": "e7483074-aa66-47c4-a2f9-cf609b25c83e",
   "metadata": {},
   "outputs": [],
   "source": [
    "X_train_final = np.reshape(X_train_norm, (50000, 28, 28, 1))\n",
    "X_test_final = np.reshape(X_test_norm,(10000, 28, 28, 1))\n",
    "X_val_final = np.reshape(X_val_norm,(10000, 28, 28, 1))"
   ]
  },
  {
   "cell_type": "code",
   "execution_count": 10,
   "id": "8c231ae6-0755-4d86-9f28-d05729f6bdd0",
   "metadata": {},
   "outputs": [
    {
     "data": {
      "image/png": "[encoded data removed]",
      "text/plain": [
       "<Figure size 640x480 with 1 Axes>"
      ]
     },
     "metadata": {},
     "output_type": "display_data"
    }
   ],
   "source": [
    "plt.plot()\n",
    "plt.imshow((X_train_final[0]), cmap=plt.get_cmap('gray'))\n",
    "plt.show()"
   ]
  },
  {
   "cell_type": "code",
   "execution_count": 11,
   "id": "2e03c7ba-0eb2-442e-8cb3-4c9169d2c3dc",
   "metadata": {},
   "outputs": [],
   "source": [
    "y_train = to_categorical(y_train)\n",
    "y_test = to_categorical(y_test)\n",
    "y_val = to_categorical(y_val)"
   ]
  },
  {
   "cell_type": "code",
   "execution_count": 12,
   "id": "2c362b98-9a4a-45db-83d2-d78f9c875321",
   "metadata": {},
   "outputs": [
    {
     "data": {
      "text/plain": [
       "(10000, 28, 28, 1)"
      ]
     },
     "execution_count": 12,
     "metadata": {},
     "output_type": "execute_result"
    }
   ],
   "source": [
    "X_val_final.shape"
   ]
  },
  {
   "cell_type": "code",
   "execution_count": 13,
   "id": "f5a86598-2e3d-46f0-8a38-571ab6d3cd33",
   "metadata": {},
   "outputs": [],
   "source": [
    "#mlflow.set_tracking_uri(uri=\"http://127.0.0.1:8080\")\n",
    "#mlflow.tensorflow.autolog()"
   ]
  },
  {
   "cell_type": "code",
   "execution_count": 14,
   "id": "d2d24c3c-519d-4cef-9639-b5ac98c22af8",
   "metadata": {},
   "outputs": [
    {
     "name": "stderr",
     "output_type": "stream",
     "text": [
      "2024-03-01 13:43:16.200767: E tensorflow/compiler/xla/stream_executor/cuda/cuda_driver.cc:266] failed call to cuInit: UNKNOWN ERROR (100)\n"
     ]
    },
    {
     "name": "stdout",
     "output_type": "stream",
     "text": [
      "Epoch 1/2\n",
      "782/782 [==============================] - 5s 6ms/step - loss: 0.2238 - accuracy: 0.9360 - val_loss: 0.1135 - val_accuracy: 0.9688\n",
      "Epoch 2/2\n",
      "782/782 [==============================] - 5s 6ms/step - loss: 0.0788 - accuracy: 0.9779 - val_loss: 0.0917 - val_accuracy: 0.9735\n"
     ]
    },
    {
     "data": {
      "text/plain": [
       "10.475911378860474"
      ]
     },
     "execution_count": 14,
     "metadata": {},
     "output_type": "execute_result"
    }
   ],
   "source": [
    "# Model / data parameters\n",
    "num_classes = 10\n",
    "\n",
    "model = models.Sequential()\n",
    "model.add(layers.Conv2D(32, kernel_size=(3, 3), activation=\"relu\"))\n",
    "model.add(layers.Flatten())\n",
    "model.add(layers.Dense(num_classes, activation=\"softmax\"))\n",
    "\n",
    "model.compile(loss=\"categorical_crossentropy\", optimizer=\"adam\", metrics=[\"accuracy\"])\n",
    "\n",
    "start_time = time.time()\n",
    "\n",
    "history = model.fit(X_train_final,\n",
    "                    y_train,\n",
    "                    batch_size = batch_size,\n",
    "                    epochs = epochs,\n",
    "                    validation_data=(X_val_final, y_val))\n",
    "\n",
    "# Fin du chronomètre\n",
    "end_time = time.time()\n",
    "\n",
    "# Calcul du temps écoulé en secondes\n",
    "training_time = end_time - start_time\n",
    "training_time"
   ]
  },
  {
   "cell_type": "code",
   "execution_count": 15,
   "id": "1cf4f6ca-7fb7-4605-8ebc-22ec65889532",
   "metadata": {},
   "outputs": [
    {
     "name": "stdout",
     "output_type": "stream",
     "text": [
      "313/313 [==============================] - 1s 2ms/step - loss: 0.0743 - accuracy: 0.9763\n"
     ]
    }
   ],
   "source": [
    "loss_test, accuracy_test = model.evaluate(X_test_final, y_test)"
   ]
  }
 ],
 "metadata": {
  "kernelspec": {
   "display_name": "env_cv",
   "language": "python",
   "name": "env_cv"
  },
  "language_info": {
   "codemirror_mode": {
    "name": "ipython",
    "version": 3
   },
   "file_extension": ".py",
   "mimetype": "text/x-python",
   "name": "python",
   "nbconvert_exporter": "python",
   "pygments_lexer": "ipython3",
   "version": "3.11.6"
  }
 },
 "nbformat": 4,
 "nbformat_minor": 5
}
