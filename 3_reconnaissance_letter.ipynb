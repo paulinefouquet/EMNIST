{
 "cells": [
  {
   "cell_type": "code",
   "execution_count": 1,
   "id": "2a8f37c7-79e4-4ec4-ac18-19d16d86b822",
   "metadata": {},
   "outputs": [
    {
     "name": "stderr",
     "output_type": "stream",
     "text": [
      "2024-03-01 13:44:27.083654: I tensorflow/core/util/port.cc:110] oneDNN custom operations are on. You may see slightly different numerical results due to floating-point round-off errors from different computation orders. To turn them off, set the environment variable `TF_ENABLE_ONEDNN_OPTS=0`.\n",
      "2024-03-01 13:44:27.118716: I tensorflow/core/platform/cpu_feature_guard.cc:182] This TensorFlow binary is optimized to use available CPU instructions in performance-critical operations.\n",
      "To enable the following instructions: SSE4.1 SSE4.2 AVX AVX2 AVX512F AVX512_VNNI FMA, in other operations, rebuild TensorFlow with the appropriate compiler flags.\n"
     ]
    }
   ],
   "source": [
    "import cv2\n",
    "import os\n",
    "import matplotlib.pyplot as plt\n",
    "import numpy as np\n",
    "from keras.models import load_model"
   ]
  },
  {
   "cell_type": "code",
   "execution_count": 2,
   "id": "3a570918-0911-48b7-81fa-396cb531f587",
   "metadata": {},
   "outputs": [],
   "source": [
    "# paths\n",
    "source_drawing = \"data_site/drawingletter/\"\n",
    "source_webcam = \"data_site/webcamletter/\""
   ]
  },
  {
   "cell_type": "code",
   "execution_count": 3,
   "id": "5440bd96-ce50-4589-ba35-4ef90b97e13f",
   "metadata": {},
   "outputs": [
    {
     "data": {
      "text/plain": [
       "(['pic0.png', 'picture.png', 'S.png'],\n",
       " ['drawing.png',\n",
       "  'drawing (3).png',\n",
       "  'drawing (4).png',\n",
       "  'zdrawing F.png',\n",
       "  'drawing (2).png',\n",
       "  'zdrawing M.png',\n",
       "  'zdrawing P.png'])"
      ]
     },
     "execution_count": 3,
     "metadata": {},
     "output_type": "execute_result"
    }
   ],
   "source": [
    "drawing_pics = os.listdir(source_drawing)\n",
    "webcam_pics = os.listdir(source_webcam)\n",
    "webcam_pics, drawing_pics"
   ]
  },
  {
   "cell_type": "code",
   "execution_count": 4,
   "id": "3f00eb3c-c2a1-4ca2-9c0a-3ca0a53eb76a",
   "metadata": {},
   "outputs": [],
   "source": [
    "def preprocess_webcam_image(image_path, exposure_factor=1.5):\n",
    "    img = cv2.imread(image_path, cv2.IMREAD_GRAYSCALE) # Charger l'image en niveaux de gris\n",
    "    img = cv2.convertScaleAbs(img, alpha=exposure_factor, beta=0) # Augmenter l'exposition\n",
    "    img = cv2.bitwise_not(img) # inverser noir blanc\n",
    "    img = cv2.resize(img, (28, 28)) # Redimensionner l'image\n",
    "    img = img / 255.0 # Normaliser les valeurs des pixels entre 0 et 1\n",
    "    return img"
   ]
  },
  {
   "cell_type": "code",
   "execution_count": 5,
   "id": "f863825a-8402-40e1-a8ba-90d72221f547",
   "metadata": {},
   "outputs": [],
   "source": [
    "full_path = os.path.join(source_webcam, webcam_pics[0])\n",
    "processed_webcam_imageO = preprocess_webcam_image(full_path)\n",
    "\n",
    "full_path = os.path.join(source_webcam, webcam_pics[1])\n",
    "processed_webcam_imageA = preprocess_webcam_image(full_path)\n",
    "\n",
    "full_path = os.path.join(source_webcam, webcam_pics[2])\n",
    "processed_webcam_imageS = preprocess_webcam_image(full_path)"
   ]
  },
  {
   "cell_type": "code",
   "execution_count": 6,
   "id": "0d2992e2-37e1-476d-8c16-50eb4cca15b8",
   "metadata": {},
   "outputs": [
    {
     "data": {
      "image/png": "[encoded data removed]",
      "text/plain": [
       "<Figure size 1500x500 with 3 Axes>"
      ]
     },
     "metadata": {},
     "output_type": "display_data"
    }
   ],
   "source": [
    "fig, axs = plt.subplots(1, 3, figsize=(15, 5))\n",
    "\n",
    "# Afficher les images\n",
    "axs[0].imshow(processed_webcam_imageS, cmap=plt.get_cmap('gray'))\n",
    "axs[0].set_title('S')\n",
    "axs[0].axis('off')\n",
    "\n",
    "axs[1].imshow(processed_webcam_imageA, cmap=plt.get_cmap('gray'))\n",
    "axs[1].set_title('A')\n",
    "axs[1].axis('off')\n",
    "\n",
    "axs[2].imshow(processed_webcam_imageO, cmap=plt.get_cmap('gray'))\n",
    "axs[2].set_title('O')\n",
    "axs[2].axis('off')\n",
    "\n",
    "plt.show()"
   ]
  },
  {
   "cell_type": "code",
   "execution_count": 7,
   "id": "f32544cf-bd5b-4373-bcc9-7dd5ad18511e",
   "metadata": {},
   "outputs": [],
   "source": [
    "def preprocess_drawing(image_path):\n",
    "    img= cv2.imread(image_path, cv2.IMREAD_GRAYSCALE)\n",
    "    img = cv2.bitwise_not(img)\n",
    "    img = cv2.resize(img, (28, 28))\n",
    "    img = img / 255.0\n",
    "    return img"
   ]
  },
  {
   "cell_type": "code",
   "execution_count": 8,
   "id": "051bc42d-96ed-4963-9b3f-e0edb57d3a28",
   "metadata": {},
   "outputs": [],
   "source": [
    "full_path = os.path.join(source_drawing, drawing_pics[0])\n",
    "processed_drawing_imageB = preprocess_drawing(full_path)\n",
    "full_path = os.path.join(source_drawing, drawing_pics[1])\n",
    "processed_drawing_imageS = preprocess_drawing(full_path)\n",
    "full_path = os.path.join(source_drawing, drawing_pics[2])\n",
    "processed_drawing_imageC = preprocess_drawing(full_path)\n",
    "full_path = os.path.join(source_drawing, drawing_pics[3])\n",
    "processed_drawing_imageF = preprocess_drawing(full_path)\n",
    "full_path = os.path.join(source_drawing, drawing_pics[4])\n",
    "processed_drawing_imageE = preprocess_drawing(full_path)\n",
    "full_path = os.path.join(source_drawing, drawing_pics[5])\n",
    "processed_drawing_imageM = preprocess_drawing(full_path)\n",
    "full_path = os.path.join(source_drawing, drawing_pics[6])\n",
    "processed_drawing_imageP = preprocess_drawing(full_path)"
   ]
  },
  {
   "cell_type": "code",
   "execution_count": 9,
   "id": "517c60bd-307b-4d49-bdb8-3df50c1bef6f",
   "metadata": {},
   "outputs": [
    {
     "data": {
      "image/png": "[encoded data removed]",
      "text/plain": [
       "<Figure size 1500x500 with 7 Axes>"
      ]
     },
     "metadata": {},
     "output_type": "display_data"
    }
   ],
   "source": [
    "fig, axs = plt.subplots(1, 7, figsize=(15, 5))\n",
    "\n",
    "# Liste des images prétraitées et leurs titres correspondants\n",
    "images = [processed_drawing_imageS, processed_drawing_imageB, processed_drawing_imageC, \n",
    "          processed_drawing_imageF, processed_drawing_imageE, processed_drawing_imageM,\n",
    "          processed_drawing_imageP]\n",
    "titles = ['S', 'B', 'C', 'F', 'E', 'M', 'P']\n",
    "\n",
    "# Afficher les images\n",
    "for i in range(7):\n",
    "    axs[i].imshow(images[i], cmap=plt.get_cmap('gray'))\n",
    "    axs[i].set_title(titles[i])\n",
    "    axs[i].axis('off')\n",
    "\n",
    "plt.show()"
   ]
  },
  {
   "cell_type": "code",
   "execution_count": 10,
   "id": "2360520c-8c78-4435-888a-4b6db79a40e4",
   "metadata": {},
   "outputs": [
    {
     "name": "stderr",
     "output_type": "stream",
     "text": [
      "2024-03-01 13:44:29.296692: E tensorflow/compiler/xla/stream_executor/cuda/cuda_driver.cc:266] failed call to cuInit: UNKNOWN ERROR (100)\n"
     ]
    }
   ],
   "source": [
    "model = load_model('prediction_letter.keras')"
   ]
  },
  {
   "cell_type": "code",
   "execution_count": 11,
   "id": "833424f9-ab31-40fc-8e67-9c5212777c37",
   "metadata": {},
   "outputs": [],
   "source": [
    "alphabet_list = ['NotALetter', 'A', 'B', 'C', 'D', 'E', 'F', 'G', 'H', 'I', 'J', 'K', 'L', 'M', 'N', 'O', 'P', 'Q', 'R', 'S', 'T', 'U', 'V', 'W', 'X', 'Y', 'Z']"
   ]
  },
  {
   "cell_type": "code",
   "execution_count": 12,
   "id": "dec54d75-06e0-45a3-8005-19983307eaf5",
   "metadata": {},
   "outputs": [],
   "source": [
    "def prediction(processed_img):\n",
    "    test_data = processed_img.reshape(1, 28, 28)\n",
    "    plt.plot()\n",
    "    plt.imshow(processed_img, cmap=plt.get_cmap('gray'))\n",
    "    predictions =model.predict(test_data)\n",
    "    prediction = np.argmax(predictions)\n",
    "    plt.show()\n",
    "    print(f'le modèle prédit: {alphabet_list[prediction]}')"
   ]
  },
  {
   "cell_type": "code",
   "execution_count": 13,
   "id": "316aa8aa-752d-41be-8bbf-e94a96208066",
   "metadata": {},
   "outputs": [
    {
     "name": "stdout",
     "output_type": "stream",
     "text": [
      "1/1 [==============================] - 0s 95ms/step\n"
     ]
    },
    {
     "data": {
      "image/png": "[encoded data removed]",
      "text/plain": [
       "<Figure size 640x480 with 1 Axes>"
      ]
     },
     "metadata": {},
     "output_type": "display_data"
    },
    {
     "name": "stdout",
     "output_type": "stream",
     "text": [
      "le modèle prédit: P\n"
     ]
    }
   ],
   "source": [
    "prediction(processed_drawing_imageP)"
   ]
  },
  {
   "cell_type": "code",
   "execution_count": 14,
   "id": "113ab6e2-c8fb-4e72-b473-e8141114b6a5",
   "metadata": {},
   "outputs": [
    {
     "name": "stdout",
     "output_type": "stream",
     "text": [
      "1/1 [==============================] - 0s 20ms/step\n"
     ]
    },
    {
     "data": {
      "image/png": "[encoded data removed]",
      "text/plain": [
       "<Figure size 640x480 with 1 Axes>"
      ]
     },
     "metadata": {},
     "output_type": "display_data"
    },
    {
     "name": "stdout",
     "output_type": "stream",
     "text": [
      "le modèle prédit: F\n"
     ]
    }
   ],
   "source": [
    "prediction(processed_drawing_imageF)"
   ]
  },
  {
   "cell_type": "code",
   "execution_count": 15,
   "id": "e6ee9c46-8149-4da1-bfa5-692be294d10c",
   "metadata": {},
   "outputs": [
    {
     "name": "stdout",
     "output_type": "stream",
     "text": [
      "1/1 [==============================] - 0s 19ms/step\n"
     ]
    },
    {
     "data": {
      "image/png": "[encoded data removed]",
      "text/plain": [
       "<Figure size 640x480 with 1 Axes>"
      ]
     },
     "metadata": {},
     "output_type": "display_data"
    },
    {
     "name": "stdout",
     "output_type": "stream",
     "text": [
      "le modèle prédit: M\n"
     ]
    }
   ],
   "source": [
    "prediction(processed_drawing_imageM)"
   ]
  },
  {
   "cell_type": "code",
   "execution_count": 16,
   "id": "6b2be926-f249-4130-ac71-2be6da318583",
   "metadata": {},
   "outputs": [
    {
     "name": "stdout",
     "output_type": "stream",
     "text": [
      "1/1 [==============================] - 0s 22ms/step\n"
     ]
    },
    {
     "data": {
      "image/png": "[encoded data removed]",
      "text/plain": [
       "<Figure size 640x480 with 1 Axes>"
      ]
     },
     "metadata": {},
     "output_type": "display_data"
    },
    {
     "name": "stdout",
     "output_type": "stream",
     "text": [
      "le modèle prédit: S\n"
     ]
    }
   ],
   "source": [
    "prediction(processed_drawing_imageS)"
   ]
  },
  {
   "cell_type": "code",
   "execution_count": 17,
   "id": "72cb8fe5-e696-469f-9a2e-6f87b9f239d5",
   "metadata": {},
   "outputs": [
    {
     "name": "stdout",
     "output_type": "stream",
     "text": [
      "1/1 [==============================] - 0s 20ms/step\n"
     ]
    },
    {
     "data": {
      "image/png": "[encoded data removed]",
      "text/plain": [
       "<Figure size 640x480 with 1 Axes>"
      ]
     },
     "metadata": {},
     "output_type": "display_data"
    },
    {
     "name": "stdout",
     "output_type": "stream",
     "text": [
      "le modèle prédit: J\n"
     ]
    }
   ],
   "source": [
    "prediction(processed_drawing_imageC)"
   ]
  },
  {
   "cell_type": "code",
   "execution_count": 18,
   "id": "f44e289a-133b-45a7-baee-5271a5716ff0",
   "metadata": {},
   "outputs": [
    {
     "name": "stdout",
     "output_type": "stream",
     "text": [
      "1/1 [==============================] - 0s 22ms/step\n"
     ]
    },
    {
     "data": {
      "image/png": "[encoded data removed]",
      "text/plain": [
       "<Figure size 640x480 with 1 Axes>"
      ]
     },
     "metadata": {},
     "output_type": "display_data"
    },
    {
     "name": "stdout",
     "output_type": "stream",
     "text": [
      "le modèle prédit: J\n"
     ]
    }
   ],
   "source": [
    "prediction(processed_drawing_imageE)"
   ]
  },
  {
   "cell_type": "code",
   "execution_count": 19,
   "id": "06b7e406-230e-4fa5-b74f-98075c319e9e",
   "metadata": {},
   "outputs": [
    {
     "name": "stdout",
     "output_type": "stream",
     "text": [
      "1/1 [==============================] - 0s 20ms/step\n"
     ]
    },
    {
     "data": {
      "image/png": "[encoded data removed]",
      "text/plain": [
       "<Figure size 640x480 with 1 Axes>"
      ]
     },
     "metadata": {},
     "output_type": "display_data"
    },
    {
     "name": "stdout",
     "output_type": "stream",
     "text": [
      "le modèle prédit: J\n"
     ]
    }
   ],
   "source": [
    "prediction(processed_webcam_imageS)"
   ]
  },
  {
   "cell_type": "code",
   "execution_count": 20,
   "id": "ced97b29-34b6-45ba-8121-b8de4fd4e29a",
   "metadata": {},
   "outputs": [
    {
     "name": "stdout",
     "output_type": "stream",
     "text": [
      "1/1 [==============================] - 0s 19ms/step\n"
     ]
    },
    {
     "data": {
      "image/png": "[encoded data removed]",
      "text/plain": [
       "<Figure size 640x480 with 1 Axes>"
      ]
     },
     "metadata": {},
     "output_type": "display_data"
    },
    {
     "name": "stdout",
     "output_type": "stream",
     "text": [
      "le modèle prédit: J\n"
     ]
    }
   ],
   "source": [
    "prediction(processed_webcam_imageA)"
   ]
  },
  {
   "cell_type": "code",
   "execution_count": 21,
   "id": "732a555e-dfec-44ef-b3c6-782bb905aabb",
   "metadata": {},
   "outputs": [
    {
     "name": "stdout",
     "output_type": "stream",
     "text": [
      "1/1 [==============================] - 0s 19ms/step\n"
     ]
    },
    {
     "data": {
      "image/png": "[encoded data removed]",
      "text/plain": [
       "<Figure size 640x480 with 1 Axes>"
      ]
     },
     "metadata": {},
     "output_type": "display_data"
    },
    {
     "name": "stdout",
     "output_type": "stream",
     "text": [
      "le modèle prédit: I\n"
     ]
    }
   ],
   "source": [
    "prediction(processed_webcam_imageO)"
   ]
  }
 ],
 "metadata": {
  "kernelspec": {
   "display_name": "env_cv",
   "language": "python",
   "name": "env_cv"
  },
  "language_info": {
   "codemirror_mode": {
    "name": "ipython",
    "version": 3
   },
   "file_extension": ".py",
   "mimetype": "text/x-python",
   "name": "python",
   "nbconvert_exporter": "python",
   "pygments_lexer": "ipython3",
   "version": "3.11.6"
  }
 },
 "nbformat": 4,
 "nbformat_minor": 5
}
