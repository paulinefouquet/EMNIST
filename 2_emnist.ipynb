{
 "cells": [
  {
   "cell_type": "code",
   "execution_count": 1,
   "id": "ecb96eea-bc4a-4ae7-bbbf-c73e62014b29",
   "metadata": {},
   "outputs": [
    {
     "name": "stderr",
     "output_type": "stream",
     "text": [
      "2024-03-01 13:42:02.749288: I tensorflow/core/util/port.cc:110] oneDNN custom operations are on. You may see slightly different numerical results due to floating-point round-off errors from different computation orders. To turn them off, set the environment variable `TF_ENABLE_ONEDNN_OPTS=0`.\n",
      "2024-03-01 13:42:02.793457: I tensorflow/core/platform/cpu_feature_guard.cc:182] This TensorFlow binary is optimized to use available CPU instructions in performance-critical operations.\n",
      "To enable the following instructions: SSE4.1 SSE4.2 AVX AVX2 AVX512F AVX512_VNNI FMA, in other operations, rebuild TensorFlow with the appropriate compiler flags.\n"
     ]
    }
   ],
   "source": [
    "from emnist import extract_training_samples, extract_test_samples\n",
    "import numpy as np\n",
    "import matplotlib.pyplot as plt\n",
    "\n",
    "import keras\n",
    "from keras import models\n",
    "from keras.models import Sequential\n",
    "from keras.layers import Dense, Flatten, Dropout, MaxPooling2D, Conv2D\n",
    "\n",
    "from tensorflow.keras.utils import to_categorical\n",
    "\n",
    "import os\n",
    "import time"
   ]
  },
  {
   "cell_type": "code",
   "execution_count": 2,
   "id": "e6b0f37d-dd9d-4ed1-8207-6697716e4caf",
   "metadata": {},
   "outputs": [],
   "source": [
    "os.environ['CUDA_VISIBLE_DEVICES'] = '1'"
   ]
  },
  {
   "cell_type": "code",
   "execution_count": 3,
   "id": "c248defd-6296-4963-be8e-88c04d7c4db0",
   "metadata": {},
   "outputs": [],
   "source": [
    "img_train, labels_train = extract_training_samples('letters')\n",
    "img_test, labels_test= extract_test_samples('letters')"
   ]
  },
  {
   "cell_type": "code",
   "execution_count": 4,
   "id": "32266374-4599-4a39-b4bc-cf8068a50d46",
   "metadata": {},
   "outputs": [
    {
     "data": {
      "text/plain": [
       "23"
      ]
     },
     "execution_count": 4,
     "metadata": {},
     "output_type": "execute_result"
    }
   ],
   "source": [
    "labels_train[0]"
   ]
  },
  {
   "cell_type": "code",
   "execution_count": 5,
   "id": "0edf1ca6-9bcb-4770-8c60-88dad82d8724",
   "metadata": {},
   "outputs": [
    {
     "data": {
      "image/png": "[encoded data removed]",
      "text/plain": [
       "<Figure size 640x480 with 1 Axes>"
      ]
     },
     "metadata": {},
     "output_type": "display_data"
    }
   ],
   "source": [
    "plt.plot()\n",
    "plt.imshow((img_train[0]), cmap=plt.get_cmap('gray'))\n",
    "plt.show()"
   ]
  },
  {
   "cell_type": "code",
   "execution_count": 6,
   "id": "545bba12-e742-464e-89b6-17c73fd10a0b",
   "metadata": {},
   "outputs": [
    {
     "data": {
      "text/plain": [
       "((124800, 28, 28), (20800, 28, 28))"
      ]
     },
     "execution_count": 6,
     "metadata": {},
     "output_type": "execute_result"
    }
   ],
   "source": [
    "img_train.shape, img_test.shape\n",
    "# img_train = img_train|:500]"
   ]
  },
  {
   "cell_type": "code",
   "execution_count": 7,
   "id": "b829e57f-34e3-4d16-8ffd-f5374f47c863",
   "metadata": {},
   "outputs": [],
   "source": [
    "img_train_norm, img_test_norm = img_train/255, img_test/255"
   ]
  },
  {
   "cell_type": "code",
   "execution_count": 8,
   "id": "964ed802-5c01-451b-aecf-9cc15aa8e300",
   "metadata": {},
   "outputs": [],
   "source": [
    "img_train_final = np.reshape(img_train_norm, (img_train.shape[0], 28, 28, 1))\n",
    "img_test_final = np.reshape(img_test_norm,(img_test.shape[0], 28, 28, 1))"
   ]
  },
  {
   "cell_type": "code",
   "execution_count": 9,
   "id": "26420e51-e1cc-4c19-b72a-480d39cf9078",
   "metadata": {},
   "outputs": [
    {
     "data": {
      "text/plain": [
       "((124800, 28, 28, 1), (20800, 28, 28, 1))"
      ]
     },
     "execution_count": 9,
     "metadata": {},
     "output_type": "execute_result"
    }
   ],
   "source": [
    "img_train_final.shape, img_test_final.shape"
   ]
  },
  {
   "cell_type": "code",
   "execution_count": 10,
   "id": "987d87ff-ba46-4293-805d-c1e429432fb7",
   "metadata": {},
   "outputs": [],
   "source": [
    "labels_train = to_categorical(labels_train)\n",
    "labels_test = to_categorical(labels_test)"
   ]
  },
  {
   "cell_type": "code",
   "execution_count": 11,
   "id": "a5b7f59c-2a43-4643-aa7f-e386e9b3327b",
   "metadata": {},
   "outputs": [
    {
     "data": {
      "text/plain": [
       "((124800, 27), (20800, 27))"
      ]
     },
     "execution_count": 11,
     "metadata": {},
     "output_type": "execute_result"
    }
   ],
   "source": [
    "labels_train.shape, labels_test.shape"
   ]
  },
  {
   "cell_type": "code",
   "execution_count": 12,
   "id": "ed4c9f90-7455-415a-83a7-76d74dd2d235",
   "metadata": {},
   "outputs": [],
   "source": [
    "batch_size=32\n",
    "epochs=2\n",
    "\n",
    "params = {\n",
    "    \"epochs\": epochs,\n",
    "    \"batch_size\": batch_size,\n",
    "}\n",
    "TAG = 'démarrage'"
   ]
  },
  {
   "cell_type": "code",
   "execution_count": 13,
   "id": "a723f796-68e5-46be-9884-787298c50974",
   "metadata": {},
   "outputs": [
    {
     "name": "stderr",
     "output_type": "stream",
     "text": [
      "2024-03-01 13:42:05.679107: E tensorflow/compiler/xla/stream_executor/cuda/cuda_driver.cc:266] failed call to cuInit: UNKNOWN ERROR (100)\n"
     ]
    }
   ],
   "source": [
    "# Model / data parameters\n",
    "num_classes = 27\n",
    "input_shape = (28, 28, 1)\n",
    "\n",
    "model = Sequential()\n",
    "model.add(Conv2D(32, (3, 3), activation='relu', input_shape=input_shape))\n",
    "model.add(MaxPooling2D(pool_size=(2, 2)))\n",
    "model.add(Conv2D(64, (3, 3), activation='relu'))\n",
    "model.add(MaxPooling2D(pool_size=(2, 2)))\n",
    "model.add(Conv2D(128, (3, 3), activation='relu'))\n",
    "model.add(Flatten())\n",
    "model.add(Dense(128, activation='relu'))\n",
    "model.add(Dense(num_classes, activation='softmax'))\n",
    "\n",
    "# Compilation du modèle\n",
    "model.compile(loss=\"categorical_crossentropy\", optimizer=\"adam\", metrics=[\"accuracy\"])"
   ]
  },
  {
   "cell_type": "code",
   "execution_count": 14,
   "id": "3a570918-0911-48b7-81fa-396cb531f587",
   "metadata": {},
   "outputs": [
    {
     "name": "stdout",
     "output_type": "stream",
     "text": [
      "Epoch 1/2\n",
      "3510/3510 [==============================] - 29s 8ms/step - loss: 0.4060 - accuracy: 0.8705 - val_loss: 0.2283 - val_accuracy: 0.9264\n",
      "Epoch 2/2\n",
      "3510/3510 [==============================] - 37s 11ms/step - loss: 0.2079 - accuracy: 0.9290 - val_loss: 0.2018 - val_accuracy: 0.9352\n"
     ]
    }
   ],
   "source": [
    "start_time = time.time()\n",
    "history = model.fit(img_train_final, labels_train, batch_size=batch_size, epochs=epochs, validation_split=0.1)\n",
    "\n",
    "# Fin du chronomètre\n",
    "end_time = time.time()\n",
    "\n",
    "# Calcul du temps écoulé en secondes\n",
    "training_time = end_time - start_time"
   ]
  },
  {
   "cell_type": "code",
   "execution_count": 15,
   "id": "6c6f1921-de4d-4db8-8fa9-13c975192c89",
   "metadata": {},
   "outputs": [
    {
     "name": "stdout",
     "output_type": "stream",
     "text": [
      "Model: \"sequential\"\n",
      "_________________________________________________________________\n",
      " Layer (type)                Output Shape              Param #   \n",
      "=================================================================\n",
      " conv2d (Conv2D)             (None, 26, 26, 32)        320       \n",
      "                                                                 \n",
      " max_pooling2d (MaxPooling2D  (None, 13, 13, 32)       0         \n",
      " )                                                               \n",
      "                                                                 \n",
      " conv2d_1 (Conv2D)           (None, 11, 11, 64)        18496     \n",
      "                                                                 \n",
      " max_pooling2d_1 (MaxPooling  (None, 5, 5, 64)         0         \n",
      " 2D)                                                             \n",
      "                                                                 \n",
      " conv2d_2 (Conv2D)           (None, 3, 3, 128)         73856     \n",
      "                                                                 \n",
      " flatten (Flatten)           (None, 1152)              0         \n",
      "                                                                 \n",
      " dense (Dense)               (None, 128)               147584    \n",
      "                                                                 \n",
      " dense_1 (Dense)             (None, 27)                3483      \n",
      "                                                                 \n",
      "=================================================================\n",
      "Total params: 243,739\n",
      "Trainable params: 243,739\n",
      "Non-trainable params: 0\n",
      "_________________________________________________________________\n"
     ]
    }
   ],
   "source": [
    "# Afficher la structure du modèle\n",
    "model.summary()"
   ]
  },
  {
   "cell_type": "code",
   "execution_count": 16,
   "id": "c6e44502-6829-4481-979e-8466104a0121",
   "metadata": {},
   "outputs": [
    {
     "name": "stdout",
     "output_type": "stream",
     "text": [
      "650/650 [==============================] - 3s 5ms/step - loss: 0.2136 - accuracy: 0.9282\n"
     ]
    }
   ],
   "source": [
    "loss_test, accuracy_test = model.evaluate(img_test_final, labels_test)"
   ]
  },
  {
   "cell_type": "code",
   "execution_count": 17,
   "id": "8af43c2d-80a1-48dd-aa7f-e50527a8904b",
   "metadata": {},
   "outputs": [
    {
     "data": {
      "text/plain": [
       "66.82921361923218"
      ]
     },
     "execution_count": 17,
     "metadata": {},
     "output_type": "execute_result"
    }
   ],
   "source": [
    "training_time"
   ]
  },
  {
   "cell_type": "code",
   "execution_count": 18,
   "id": "d7308dd3-0959-4695-a0b7-1f4f4314736d",
   "metadata": {},
   "outputs": [],
   "source": [
    "model.save('prediction_letter.keras')"
   ]
  }
 ],
 "metadata": {
  "kernelspec": {
   "display_name": "env_cv",
   "language": "python",
   "name": "env_cv"
  },
  "language_info": {
   "codemirror_mode": {
    "name": "ipython",
    "version": 3
   },
   "file_extension": ".py",
   "mimetype": "text/x-python",
   "name": "python",
   "nbconvert_exporter": "python",
   "pygments_lexer": "ipython3",
   "version": "3.11.6"
  }
 },
 "nbformat": 4,
 "nbformat_minor": 5
}
